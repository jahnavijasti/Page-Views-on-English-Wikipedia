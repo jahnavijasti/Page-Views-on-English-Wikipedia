{
 "cells": [
  {
   "cell_type": "code",
   "execution_count": 1,
   "metadata": {
    "collapsed": true
   },
   "outputs": [],
   "source": [
    "## importing required libraries\n",
    "import requests\n",
    "import json\n",
    "import pandas as pd\n",
    "\n",
    "endpoint = 'https://wikimedia.org/api/rest_v1/metrics/pageviews/aggregate/{project}/{access}/{agent}/{granularity}/{start}/{end}'\n",
    "\n",
    "headers={'User-Agent' : 'https://github.com/your_github_username', 'From' : 'your_uw_email@uw.edu'}"
   ]
  },
  {
   "cell_type": "markdown",
   "metadata": {},
   "source": [
    "###  Data for Pageview Mobile Web"
   ]
  },
  {
   "cell_type": "code",
   "execution_count": 2,
   "metadata": {
    "collapsed": true
   },
   "outputs": [],
   "source": [
    "params = {'project' : 'en.wikipedia.org',\n",
    "            'access' : 'mobile-web',\n",
    "            'agent' : 'user',\n",
    "            'granularity' : 'monthly',\n",
    "            'start' : '2015070100',\n",
    "            'end' : '2017093000'\n",
    "            }\n",
    "\n",
    "api_call = requests.get(endpoint.format(**params))\n",
    "response_pw_mob_web = api_call.json()\n",
    "\n",
    "with open('pageviews_mobile-web_201507-201709.json', 'w') as outfile:\n",
    "    json.dump(response_pw_mob_web, outfile)\n",
    "\n",
    "(pd.DataFrame.from_dict(data=response_pw_mob_web['items'], orient='columns').\n",
    "to_csv('pageviews_mobile-web_201507-201709.csv', header=True))"
   ]
  },
  {
   "cell_type": "markdown",
   "metadata": {},
   "source": [
    "### Data for Pageview Mobile App"
   ]
  },
  {
   "cell_type": "code",
   "execution_count": 3,
   "metadata": {
    "collapsed": true
   },
   "outputs": [],
   "source": [
    "params = {'project' : 'en.wikipedia.org',\n",
    "            'access' : 'mobile-app',\n",
    "            'agent' : 'user',\n",
    "            'granularity' : 'monthly',\n",
    "            'start' : '2015070100',\n",
    "            'end' : '2017093000'\n",
    "            }\n",
    "\n",
    "api_call = requests.get(endpoint.format(**params))\n",
    "response_pw_mob_app = api_call.json()\n",
    "\n",
    "with open('pageviews_mobile-app_201507-201709.json', 'w') as outfile:\n",
    "    json.dump(response_pw_mob_app, outfile)\n",
    "\n",
    "import pandas as pd\n",
    "\n",
    "(pd.DataFrame.from_dict(data=response_pw_mob_app['items'], orient='columns').\n",
    "to_csv('pageviews_mobile-app_201507-201709.csv', header=True))"
   ]
  },
  {
   "cell_type": "markdown",
   "metadata": {},
   "source": [
    "### Data for Pageview Desktop"
   ]
  },
  {
   "cell_type": "code",
   "execution_count": 4,
   "metadata": {
    "collapsed": true
   },
   "outputs": [],
   "source": [
    "params = {'project' : 'en.wikipedia.org',\n",
    "            'access' : 'desktop',\n",
    "            'agent' : 'user',\n",
    "            'granularity' : 'monthly',\n",
    "            'start' : '2015070100',\n",
    "            'end' : '2017093000'\n",
    "            }\n",
    "\n",
    "api_call = requests.get(endpoint.format(**params))\n",
    "response_pw_desktop = api_call.json()\n",
    "\n",
    "with open('pageviews_desktop_201507-201709.json', 'w') as outfile:\n",
    "    json.dump(response_pw_desktop, outfile)\n",
    "\n",
    "import pandas as pd\n",
    "\n",
    "(pd.DataFrame.from_dict(data=response_pw_desktop['items'], orient='columns').\n",
    "to_csv('pageviews_desktop_201507-201709.csv', header=True))"
   ]
  },
  {
   "cell_type": "markdown",
   "metadata": {},
   "source": [
    "### Data for Pagecount Mobile"
   ]
  },
  {
   "cell_type": "code",
   "execution_count": 5,
   "metadata": {
    "collapsed": true
   },
   "outputs": [],
   "source": [
    "endpoint = 'https://wikimedia.org/api/rest_v1/metrics/legacy/pagecounts/aggregate/{project}/{access}/{granularity}/{start}/{end}'"
   ]
  },
  {
   "cell_type": "code",
   "execution_count": 6,
   "metadata": {
    "collapsed": true
   },
   "outputs": [],
   "source": [
    "params = {'project' : 'en.wikipedia.org',\n",
    "            'access' : 'mobile-site',\n",
    "            'granularity' : 'monthly',\n",
    "            'start' : '2008010100',\n",
    "            'end' : '2016080100'\n",
    "            }\n",
    "api_call = requests.get(endpoint.format(**params))\n",
    "response_pc_mobile = api_call.json()\n",
    "\n",
    "with open('pagecounts_mobile_200801-201607.json', 'w') as outfile:\n",
    "    json.dump(response_pc_mobile, outfile)\n",
    "\n",
    "import pandas as pd\n",
    "\n",
    "(pd.DataFrame.from_dict(data=response_pc_mobile['items'], orient='columns').\n",
    "to_csv('pagecounts_mobile_200801-201607.csv', header=True))"
   ]
  },
  {
   "cell_type": "markdown",
   "metadata": {},
   "source": [
    "### Data for Pagecount Desktop"
   ]
  },
  {
   "cell_type": "code",
   "execution_count": 7,
   "metadata": {
    "collapsed": true
   },
   "outputs": [],
   "source": [
    "params = {'project' : 'en.wikipedia.org',\n",
    "            'access' : 'desktop-site',\n",
    "            'granularity' : 'monthly',\n",
    "            'start' : '2008010100',\n",
    "            'end' : '2016080100'\n",
    "            }\n",
    "api_call = requests.get(endpoint.format(**params))\n",
    "response_pc_desktop = api_call.json()\n",
    "\n",
    "with open('pagecounts_desktop_200801-201607.json', 'w') as outfile:\n",
    "    json.dump(response_pc_desktop, outfile)\n",
    "\n",
    "import pandas as pd\n",
    "\n",
    "(pd.DataFrame.from_dict(data=response_pc_desktop['items'], orient='columns').\n",
    "to_csv('pagecounts_desktop_200801-201607.csv', header=True))"
   ]
  },
  {
   "cell_type": "code",
   "execution_count": null,
   "metadata": {
    "collapsed": true
   },
   "outputs": [],
   "source": []
  }
 ],
 "metadata": {
  "kernelspec": {
   "display_name": "Python 3",
   "language": "python",
   "name": "python3"
  },
  "language_info": {
   "codemirror_mode": {
    "name": "ipython",
    "version": 3
   },
   "file_extension": ".py",
   "mimetype": "text/x-python",
   "name": "python",
   "nbconvert_exporter": "python",
   "pygments_lexer": "ipython3",
   "version": "3.6.1"
  }
 },
 "nbformat": 4,
 "nbformat_minor": 2
}
